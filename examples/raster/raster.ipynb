{
 "cells": [
  {
   "cell_type": "markdown",
   "id": "0",
   "metadata": {},
   "source": [
    "[![Open In Colab](https://colab.research.google.com/assets/colab-badge.svg)](https://colab.research.google.com/github/ishwar97/temp_interpolation/blob/main/docs/examples/raster.ipynb)\n",
    "### Lab 7 Raster data and static image overlay"
   ]
  },
  {
   "cell_type": "code",
   "execution_count": null,
   "id": "1",
   "metadata": {},
   "outputs": [],
   "source": [
    "import temp_interpolation"
   ]
  },
  {
   "cell_type": "code",
   "execution_count": null,
   "id": "2",
   "metadata": {},
   "outputs": [],
   "source": [
    "m = temp_interpolation.Map(center=(40, -100), zoom=3)"
   ]
  },
  {
   "cell_type": "code",
   "execution_count": null,
   "id": "3",
   "metadata": {},
   "outputs": [],
   "source": [
    "# Task 1: Add a raster layer to the map\n",
    "filename = r\"https://github.com/opengeos/datasets/releases/download/hydrology/dem.tif\"\n",
    "m.add_raster(filename, name=\"DEM\", opacity=1, colormap=\"terrain\")"
   ]
  },
  {
   "cell_type": "code",
   "execution_count": null,
   "id": "4",
   "metadata": {},
   "outputs": [],
   "source": [
    "# Task 2: Add a static image overlay on the map\n",
    "m.add_image(\n",
    "    url=\"https://www.thepetexpress.co.uk/blog-admin/wp-content/uploads/2015/09/bordeaux-869020_1280.jpg\",\n",
    "    name=\"Dog\",\n",
    "    opacity=1,\n",
    "    bounds=[[43, -119], [45, -122]],\n",
    ")"
   ]
  },
  {
   "cell_type": "code",
   "execution_count": null,
   "id": "5",
   "metadata": {},
   "outputs": [],
   "source": [
    "# Task 3: Add a video overlay on the map\n",
    "m.add_video(\n",
    "    url=\"https://static-assets.mapbox.com/mapbox-gl-js/drone.mp4\",\n",
    "    bounds=[[37.56238816, -122.515963], [37.563391708, -122.5130939]],\n",
    "    name=\"Drone Video\",\n",
    "    opacity=0.8,\n",
    ")"
   ]
  },
  {
   "cell_type": "code",
   "execution_count": null,
   "id": "6",
   "metadata": {},
   "outputs": [],
   "source": [
    "# Task 4: Add a wms layer overlay on the map\n",
    "\n",
    "m.add_wms_layer(\n",
    "    url=\"https://www.mrlc.gov/geoserver/ows?\",\n",
    "    layers=\"mrlc_display:NLCD_2021_Land_Cover_L48\",\n",
    "    name=\"NLCD Land Cover\",\n",
    "    format=\"image/png\",\n",
    "    transparent=True,\n",
    "    version=\"1.1.0\",\n",
    "    attribution=\"NLCD Land Cover\",\n",
    "    opacity=1,\n",
    ")\n",
    "m.add_layer_control()\n",
    "m"
   ]
  }
 ],
 "metadata": {
  "kernelspec": {
   "display_name": "dev",
   "language": "python",
   "name": "python3"
  },
  "language_info": {
   "codemirror_mode": {
    "name": "ipython",
    "version": 3
   },
   "file_extension": ".py",
   "mimetype": "text/x-python",
   "name": "python",
   "nbconvert_exporter": "python",
   "pygments_lexer": "ipython3",
   "version": "3.11.11"
  }
 },
 "nbformat": 4,
 "nbformat_minor": 5
}
